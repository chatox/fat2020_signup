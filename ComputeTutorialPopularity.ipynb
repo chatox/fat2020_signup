{
 "cells": [
  {
   "cell_type": "markdown",
   "metadata": {},
   "source": [
    "# Determine tutorial popularity\n",
    "\n",
    "Author: [ChaTo](https://chato.cl/). Date: January 2020.\n",
    "\n",
    "Highest = 2 points; High = 1 point."
   ]
  },
  {
   "cell_type": "code",
   "execution_count": null,
   "metadata": {},
   "outputs": [],
   "source": [
    "import csv\n",
    "import io\n",
    "import datetime\n",
    "import re\n",
    "import random"
   ]
  },
  {
   "cell_type": "code",
   "execution_count": null,
   "metadata": {},
   "outputs": [],
   "source": [
    "# INPUT FILES AND PARAMETERS\n",
    "\n",
    "PREFERENCES_FILE = \"data/preferences.csv\"\n",
    "TUTORIALS_FILE = \"data/tutorials.csv\"\n",
    "\n",
    "PREF_TWO_POINTS = \"Highest\"\n",
    "PREF_ONE_POINT = \"High\""
   ]
  },
  {
   "cell_type": "markdown",
   "metadata": {},
   "source": [
    "## Read preferences data\n",
    "\n",
    "* *Tutorial preferences*: their interest in each tutorial (Highest to Lowest, with blank=Indifferent)"
   ]
  },
  {
   "cell_type": "code",
   "execution_count": null,
   "metadata": {},
   "outputs": [],
   "source": [
    "tutorial_points = {}\n",
    "\n",
    "with io.open(PREFERENCES_FILE) as file:\n",
    "    reader = csv.DictReader(file, delimiter=\",\")\n",
    "    for row in reader:                \n",
    "        for key in row:\n",
    "            if key.startswith(\"Tutorial preference\"):\n",
    "                name_match = re.search(\"(Tutorial preferences) \\[(.*)\\]\", key)\n",
    "                tutorial_name = name_match.group(2)\n",
    "                \n",
    "                if tutorial_name not in tutorial_points:\n",
    "                    tutorial_points[tutorial_name] = 0\n",
    "\n",
    "                if row[key] == PREF_TWO_POINTS:\n",
    "                    tutorial_points[tutorial_name] += 2\n",
    "                elif row[key] == PREF_ONE_POINT:\n",
    "                    tutorial_points[tutorial_name] += 1\n",
    "\n"
   ]
  },
  {
   "cell_type": "code",
   "execution_count": null,
   "metadata": {},
   "outputs": [],
   "source": [
    "sorted_tutorials = sorted(tutorial_points.keys(), reverse=True, key=lambda name: tutorial_points[name])"
   ]
  },
  {
   "cell_type": "code",
   "execution_count": null,
   "metadata": {},
   "outputs": [],
   "source": [
    "for tutorial_name in sorted_tutorials:\n",
    "    print(\"%4d %s\" % (tutorial_points[tutorial_name]/2, tutorial_name))"
   ]
  },
  {
   "cell_type": "code",
   "execution_count": null,
   "metadata": {},
   "outputs": [],
   "source": []
  }
 ],
 "metadata": {
  "kernelspec": {
   "display_name": "Python 3",
   "language": "python",
   "name": "python3"
  },
  "language_info": {
   "codemirror_mode": {
    "name": "ipython",
    "version": 3
   },
   "file_extension": ".py",
   "mimetype": "text/x-python",
   "name": "python",
   "nbconvert_exporter": "python",
   "pygments_lexer": "ipython3",
   "version": "3.6.8"
  }
 },
 "nbformat": 4,
 "nbformat_minor": 2
}
