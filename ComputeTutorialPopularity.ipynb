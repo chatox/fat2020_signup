{
 "cells": [
  {
   "cell_type": "markdown",
   "metadata": {},
   "source": [
    "# Determine tutorial popularity\n",
    "\n",
    "Author: [ChaTo](https://chato.cl/). Date: December 2019.\n",
    "\n",
    "Highest = 2 points; High = 1 point."
   ]
  },
  {
   "cell_type": "code",
   "execution_count": 1,
   "metadata": {},
   "outputs": [],
   "source": [
    "import csv\n",
    "import io\n",
    "import datetime\n",
    "import re\n",
    "import random"
   ]
  },
  {
   "cell_type": "code",
   "execution_count": 2,
   "metadata": {},
   "outputs": [],
   "source": [
    "# INPUT FILES AND PARAMETERS\n",
    "\n",
    "PREFERENCES_FILE = \"data/preferences.csv\"\n",
    "TUTORIALS_FILE = \"data/tutorials.csv\"\n",
    "\n",
    "PREF_TWO_POINTS = \"Highest\"\n",
    "PREF_ONE_POINT = \"High\""
   ]
  },
  {
   "cell_type": "markdown",
   "metadata": {},
   "source": [
    "## Read preferences data\n",
    "\n",
    "* *Registration code*: the registration code used as user key\n",
    "* *Tutorial preferences*: their interest in each tutorial (Highest to Lowest, with blank=Indifferent)\n",
    "* *CRAFT preferences*: their interest in each CRAFT (Highest to Lowest, with blank=Indifferent)"
   ]
  },
  {
   "cell_type": "code",
   "execution_count": 6,
   "metadata": {},
   "outputs": [],
   "source": [
    "tutorial_points = {}\n",
    "\n",
    "with io.open(PREFERENCES_FILE) as file:\n",
    "    reader = csv.DictReader(file, delimiter=\",\")\n",
    "    for row in reader:\n",
    "\n",
    "        code = row[\"Registration code\"]\n",
    "                \n",
    "        for key in row:\n",
    "            if key.startswith(\"Tutorial preference\"):\n",
    "                name_match = re.search(\"(Tutorial preferences) \\[(.*)\\]\", key)\n",
    "                tutorial_name = name_match.group(2)\n",
    "                \n",
    "                if tutorial_name not in tutorial_points:\n",
    "                    tutorial_points[tutorial_name] = 0\n",
    "\n",
    "                if row[key] == PREF_TWO_POINTS:\n",
    "                    tutorial_points[tutorial_name] += 2\n",
    "                elif row[key] == PREF_ONE_POINT:\n",
    "                    tutorial_points[tutorial_name] += 1\n",
    "\n"
   ]
  },
  {
   "cell_type": "code",
   "execution_count": 7,
   "metadata": {},
   "outputs": [],
   "source": [
    "sorted_tutorials = sorted(tutorial_points.keys(), reverse=True, key=lambda name: tutorial_points[name])"
   ]
  },
  {
   "cell_type": "code",
   "execution_count": 9,
   "metadata": {},
   "outputs": [
    {
     "name": "stdout",
     "output_type": "stream",
     "text": [
      "  81 Translation Tutorial: The Meaning and Measurement of Bias: Lessons from NLP\n",
      "  75 Implications Tutorial: Explainable AI in Industry - Practical Challenges and Lessons Learned\n",
      "  60 Invited Tutorial: What does 'fairness' mean in (data protection) law?'\n",
      "  54 Translation Tutorial: Leap of FATE: Human Rights as a Complementary Framework for AI Policy and Practice\n",
      "  53 Translation Tutorial: Policy 101: An Introduction to Participating in the Policymaking Process\n",
      "  53 Hands-on Tutorial: Probing ML models for fairness with the What-if Tool and SHAP\n",
      "  51 Hands-On Tutorial: AI Explainability 360\n",
      "  49 Translation Tutorial: Positionality-Aware Machine Learning\n",
      "  49 Implications Tutorial: Assessing the intersection of Organizational Structure and FAT* efforts within industry\n",
      "  45 Translation tutorial: Two computer scientists and a cultural scientist get hit by a driver-less car: Situating knowledge in the cross-disciplinary study of F-A-T in machine learning\n",
      "  40 Invited Tutorial: Gender: What the GDPR does not tell us (But maybe you can?)\n",
      "  39 Translation Tutorial: Can an algorithmic system be a 'friend' to a police officer's discretion?\n",
      "  29 Hands-on Tutorial: Experimentation with fairness-aware recommendation using librec-auto\n",
      "  21 Translation Tutorial: From the Total Survey Error Framework to an Error Framework for Digital Traces of Humans\n"
     ]
    }
   ],
   "source": [
    "for tutorial_name in sorted_tutorials:\n",
    "    print(\"%4d %s\" % (tutorial_points[tutorial_name]/2, tutorial_name))"
   ]
  },
  {
   "cell_type": "code",
   "execution_count": null,
   "metadata": {},
   "outputs": [],
   "source": []
  }
 ],
 "metadata": {
  "kernelspec": {
   "display_name": "Python 3",
   "language": "python",
   "name": "python3"
  },
  "language_info": {
   "codemirror_mode": {
    "name": "ipython",
    "version": 3
   },
   "file_extension": ".py",
   "mimetype": "text/x-python",
   "name": "python",
   "nbconvert_exporter": "python",
   "pygments_lexer": "ipython3",
   "version": "3.6.8"
  }
 },
 "nbformat": 4,
 "nbformat_minor": 2
}
